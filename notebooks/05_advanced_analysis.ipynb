{
 "cells": [
  {
   "cell_type": "code",
   "execution_count": null,
   "id": "0904ce21",
   "metadata": {
    "vscode": {
     "languageId": "plaintext"
    }
   },
   "outputs": [],
   "source": [
    "# --- Advanced Analysis ---\n",
    "\n",
    "import pandas as pd\n",
    "from src.data_loader import load_weather_data\n",
    "from src.preprocess import clean_weather_data\n",
    "from sklearn.ensemble import IsolationForest\n",
    "\n",
    "df = clean_weather_data(load_weather_data())\n",
    "\n",
    "# Anomaly detection on temp, humidity, precip\n",
    "features = df[[\"temp_c\",\"humidity\",\"precip_mm\"]].dropna()\n",
    "clf = IsolationForest(contamination=0.01, random_state=42)\n",
    "df[\"anomaly\"] = clf.fit_predict(features)\n",
    "\n",
    "df[\"anomaly\"].value_counts()\n"
   ]
  },
  {
   "cell_type": "code",
   "execution_count": null,
   "id": "e779cf3d",
   "metadata": {
    "vscode": {
     "languageId": "plaintext"
    }
   },
   "outputs": [],
   "source": [
    "# Spatial analysis example\n",
    "from src.visualization import plot_city_map\n",
    "plot_city_map(df, save_path=\"reports/figures/city_map.html\")\n"
   ]
  },
  {
   "cell_type": "code",
   "execution_count": null,
   "id": "eb710bd7",
   "metadata": {
    "vscode": {
     "languageId": "plaintext"
    }
   },
   "outputs": [],
   "source": [
    "# Climate trend analysis\n",
    "trend = df.groupby(df[\"lastupdated\"].dt.year)[\"temp_c\"].mean()\n",
    "trend.plot(title=\"Global Avg Temp Trend\", figsize=(10,5))\n"
   ]
  }
 ],
 "metadata": {
  "language_info": {
   "name": "python"
  }
 },
 "nbformat": 4,
 "nbformat_minor": 5
}
