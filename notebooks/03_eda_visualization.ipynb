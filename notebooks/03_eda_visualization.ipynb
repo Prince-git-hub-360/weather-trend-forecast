{
 "cells": [
  {
   "cell_type": "code",
   "execution_count": null,
   "id": "211d4bed",
   "metadata": {
    "vscode": {
     "languageId": "plaintext"
    }
   },
   "outputs": [],
   "source": [
    "# --- Exploratory Data Analysis ---\n",
    "\n",
    "import pandas as pd\n",
    "from src.data_loader import load_weather_data\n",
    "from src.preprocess import clean_weather_data\n",
    "from src.eda import plot_temperature_trend, plot_precipitation_distribution\n",
    "\n",
    "df = clean_weather_data(load_weather_data())\n",
    "\n",
    "# Plot for one city\n",
    "plot_temperature_trend(df, city=\"London\", save_path=\"reports/figures/london_temp.png\")\n",
    "\n",
    "# Precipitation distribution\n",
    "plot_precipitation_distribution(df, save_path=\"reports/figures/precipitation_box.png\")\n"
   ]
  },
  {
   "cell_type": "code",
   "execution_count": null,
   "id": "89d4a1b6",
   "metadata": {
    "vscode": {
     "languageId": "plaintext"
    }
   },
   "outputs": [],
   "source": [
    "# Correlation heatmap\n",
    "import seaborn as sns\n",
    "import matplotlib.pyplot as plt\n",
    "\n",
    "plt.figure(figsize=(10,6))\n",
    "sns.heatmap(df[[\"temp_c\",\"humidity\",\"precip_mm\",\"windspeed_kmph\"]].corr(), annot=True, cmap=\"coolwarm\")\n",
    "plt.title(\"Weather Feature Correlations\")\n",
    "plt.show()\n"
   ]
  }
 ],
 "metadata": {
  "language_info": {
   "name": "python"
  }
 },
 "nbformat": 4,
 "nbformat_minor": 5
}
