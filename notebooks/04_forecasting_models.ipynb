{
 "cells": [
  {
   "cell_type": "code",
   "execution_count": null,
   "id": "bfea947c",
   "metadata": {
    "vscode": {
     "languageId": "plaintext"
    }
   },
   "outputs": [],
   "source": []
  },
  {
   "cell_type": "code",
   "execution_count": null,
   "id": "a30c8315",
   "metadata": {
    "vscode": {
     "languageId": "plaintext"
    }
   },
   "outputs": [],
   "source": [
    "# --- Forecasting Models ---\n",
    "\n",
    "import pandas as pd\n",
    "from src.data_loader import load_weather_data\n",
    "from src.preprocess import clean_weather_data\n",
    "from src.models import build_prophet_forecast, evaluate_forecast\n",
    "\n",
    "df = clean_weather_data(load_weather_data())\n",
    "\n",
    "# Train Prophet model\n",
    "model, forecast = build_prophet_forecast(df, city=\"New York\", horizon=90)\n",
    "\n",
    "# Display forecast tail\n",
    "forecast[[\"ds\",\"yhat\",\"yhat_lower\",\"yhat_upper\"]].tail()\n"
   ]
  },
  {
   "cell_type": "code",
   "execution_count": null,
   "id": "c02767a0",
   "metadata": {
    "vscode": {
     "languageId": "plaintext"
    }
   },
   "outputs": [],
   "source": [
    "# Plot forecast\n",
    "fig = model.plot(forecast)\n"
   ]
  },
  {
   "cell_type": "code",
   "execution_count": null,
   "id": "3989033f",
   "metadata": {
    "vscode": {
     "languageId": "plaintext"
    }
   },
   "outputs": [],
   "source": [
    "# Evaluate using last 30 days as test\n",
    "city_df = (\n",
    "    df[df[\"city\"]==\"New York\"].resample(\"D\", on=\"lastupdated\").mean()\n",
    "    .reset_index()[[\"lastupdated\",\"temp_c\"]].dropna()\n",
    ")\n",
    "train = city_df.iloc[:-30]\n",
    "test = city_df.iloc[-30:]\n",
    "\n",
    "m, f = build_prophet_forecast(train, city=\"New York\", horizon=30)\n",
    "metrics = evaluate_forecast(test[\"temp_c\"].values, f[\"yhat\"][-30:].values)\n",
    "metrics\n"
   ]
  }
 ],
 "metadata": {
  "language_info": {
   "name": "python"
  }
 },
 "nbformat": 4,
 "nbformat_minor": 5
}
